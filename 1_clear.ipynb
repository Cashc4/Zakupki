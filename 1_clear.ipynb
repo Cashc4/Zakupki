{
 "cells": [
  {
   "cell_type": "markdown",
   "metadata": {},
   "source": [
    "## ФЕДЕРАЛЬНОЕ ГОСУДАРСТВЕННОЕ БЮДЖЕТНОЕ ОБРАЗОВАТЕЛЬНОЕ УЧРЕЖДЕНИЕ ВЫСШЕГО ОБРАЗОВАНИЯ «МОСКОВСКИЙ ГОСУДАРСТВЕННЫЙ ТЕХНИЧЕСКИЙ УНИВЕРСИТЕТ ИМЕНИ Н.Э. БАУМАНА\n",
    "\n",
    "### Центр дополнительного образования МГТУ им. Н.Э. Баумана\n",
    "\n",
    "\n",
    "### Отчет о выполнении итогового задания\n",
    "\n",
    "\n",
    "## Выполнил: Куликов Алексей Сергеевич\n",
    "\n",
    "___"
   ]
  },
  {
   "cell_type": "markdown",
   "metadata": {},
   "source": [
    "### Задача: \n",
    "необходимо на основе данных с ftp.zakupki.gov.ru научиться определять группу, к которой относится контракт с кодом ОКПД-2 41, 42, 43, 71.1.\n",
    "Группы могут быть следующими:\n",
    "1.\tСтроительно-монтажные работы (СМР)\n",
    "2.\tПроектно-изыскательские работы (ПИР)\n",
    "3.\tСтроительный надзор\n",
    "4.\tПодключение коммуникаций\n",
    "5.\tПрочее.\n",
    "По ОКПД-2 контракты в общем случае должны разделяться так:\n",
    "Строительно-монтажные работы (СМР) - 41, 42, 43(кроме нижеперечисленных)\n",
    "Проектно-изыскательские работы (ПИР) - 41.1, 71.1\n",
    "Подключение коммуникаций - 43.22\n",
    "Строительный надзор – четкой группы нет.\n",
    "### Проблема: \n",
    "Далеко не всегда контракты указываются с нужным кодом, поэтому есть проблема как такие контракты \"отловить\" и определить в нужную группу.\n",
    "Поэтому задача предполагает классификацию контрактов на основе объекта закупки, который сформулирован естественным языком. Также предполагаем, что могут иметь значение цена контракта и его длительность.\n",
    "На основе этого на входе данные о контрактах. На выходе необходимо получить группу для каждого контракта.\n",
    "Иногда контракт может одновременно относиться к нескольким группам.\n",
    "\n",
    "\n",
    "___"
   ]
  },
  {
   "cell_type": "markdown",
   "id": "d846e861-9f22-4c99-81b2-1544811469c7",
   "metadata": {},
   "source": [
    "<H3>На данном шаге мы изучим файл, очистим его от столбцов, которые не помогут в дальнейшей работе\n",
    "    \n",
    "В результате получим файл для анализа и работы</H3>"
   ]
  },
  {
   "cell_type": "code",
   "execution_count": 1,
   "id": "be4487c8-f93a-4fde-b82e-d53a6b2cefbf",
   "metadata": {},
   "outputs": [],
   "source": [
    "# Библиотеки\n",
    "import os\n",
    "\n",
    "import pandas as pd\n",
    "from tqdm import tqdm"
   ]
  },
  {
   "cell_type": "code",
   "execution_count": 2,
   "id": "f0ca0215-ef3f-4cf0-a2c4-6e0aff4c8d07",
   "metadata": {},
   "outputs": [],
   "source": [
    "# Отключаем предупреждения. Мы знаем, что делаем\n",
    "import warnings\n",
    "warnings.filterwarnings('ignore')"
   ]
  },
  {
   "cell_type": "code",
   "execution_count": 3,
   "id": "b4d814ab-b92d-4abe-8739-4fa263af5c1f",
   "metadata": {},
   "outputs": [],
   "source": [
    "# Названия столбцов из презентации\n",
    "COLUMNS = [\"x1\", \"Реестровый номер контракта\", \"x2\", \"x3\", \"x4\", \"x5\", \n",
    "           \"x6\", \"x7\", \"x8\", \"x9\", \"x10\", \"x11\", \"x12\", \n",
    "           \"date1\", \"date2\", \"date3\", \"date4\", \"date5\", \"date6\", \"x13\", \"x14\", \n",
    "           \"x15\", \"x16\", \"x17\", \"x18\", \"y_description\", \"y\"]\n",
    "\n",
    "# Количество строк для считывания\n",
    "ROWS = 10 ** 6"
   ]
  },
  {
   "cell_type": "code",
   "execution_count": 4,
   "id": "5ca58d27-abfe-462e-a262-dde44fe02997",
   "metadata": {},
   "outputs": [],
   "source": [
    "# Чтение как из презентации\n",
    "df = pd.read_csv('datasets/fz.csv', nrows=ROWS,\n",
    "                 on_bad_lines=\"skip\", names=COLUMNS,\n",
    "                 encoding=\"utf-8\", low_memory=False)"
   ]
  },
  {
   "cell_type": "markdown",
   "id": "a2a452c6-5228-4979-9a21-e2c715b51aeb",
   "metadata": {},
   "source": [
    "# Изучение файла"
   ]
  },
  {
   "cell_type": "markdown",
   "id": "9b956bbf-2394-4e23-82dc-a0e0d9c1dcce",
   "metadata": {},
   "source": [
    "Рассмотрим, что из себя представляет файл, чтобы выделить необходимые столбцы"
   ]
  },
  {
   "cell_type": "markdown",
   "id": "32325678-b93f-4613-ac4d-decd6c44a850",
   "metadata": {},
   "source": [
    "## Базовая информация"
   ]
  },
  {
   "cell_type": "code",
   "execution_count": 5,
   "id": "2edfb536-21d5-4124-9997-d8cbf99dee2a",
   "metadata": {},
   "outputs": [
    {
     "data": {
      "text/plain": [
       "x1                                                                            1\n",
       "Реестровый номер контракта                                  1010101008321000006\n",
       "x2                                         211010101008301010100100100246820244\n",
       "x3                                                                   7707049388\n",
       "x4                                      КРАСНОДАРСКИЙ ФИЛИАЛ ПАО \\РОСТЕЛЕКОМ\\\"\"\n",
       "x5                                                              <НЕ ОПРЕДЕЛЕНО>\n",
       "x6                                                                   0101010083\n",
       "x7                                              МО МВД РОССИИ \\КОШЕХАБЛЬСКИЙ\\\"\"\n",
       "x8                                                   Республика Адыгея (Адыгея)\n",
       "x9                                                         18803020840390049244\n",
       "x10                                                           Контракт исполнен\n",
       "x11                                                             <НЕ ОПРЕДЕЛЕНО>\n",
       "x12                                                          федеральный бюджет\n",
       "date1                                                                2021-12-02\n",
       "date2                                                                2021-01-01\n",
       "date3                                                                2021-12-30\n",
       "date4                                                                2022-01-14\n",
       "date5                                                                2022-04-18\n",
       "date6                                                                        \\N\n",
       "x13                                                             <НЕ ОПРЕДЕЛЕНО>\n",
       "x14                                                                          \\N\n",
       "x15                                                                   173380.50\n",
       "x16                                                                        0.00\n",
       "x17                           Изменение условий контракта, заключенного с ед...\n",
       "x18                                                             <НЕ ОПРЕДЕЛЕНО>\n",
       "y_description                       Услуги по операциям с недвижимым имуществом\n",
       "y                                                                          68.2\n",
       "Name: 0, dtype: object"
      ]
     },
     "execution_count": 5,
     "metadata": {},
     "output_type": "execute_result"
    }
   ],
   "source": [
    "# Пример данных\n",
    "# Берем первую строку по индексу, транспонируем для красивого вывода\n",
    "df.iloc[0].T"
   ]
  },
  {
   "cell_type": "markdown",
   "id": "70b69add-cbc6-489c-8259-fd8733356537",
   "metadata": {},
   "source": [
    "Предположим, что символ каретки '\\N' означает пропуск в данных, учтем это"
   ]
  },
  {
   "cell_type": "code",
   "execution_count": 6,
   "id": "4c63a866-9c32-40f2-8b83-e101e6a344a8",
   "metadata": {},
   "outputs": [
    {
     "name": "stdout",
     "output_type": "stream",
     "text": [
      "<class 'pandas.core.frame.DataFrame'>\n",
      "RangeIndex: 1000000 entries, 0 to 999999\n",
      "Data columns (total 27 columns):\n",
      " #   Column                      Non-Null Count    Dtype \n",
      "---  ------                      --------------    ----- \n",
      " 0   x1                          1000000 non-null  int64 \n",
      " 1   Реестровый номер контракта  1000000 non-null  int64 \n",
      " 2   x2                          1000000 non-null  object\n",
      " 3   x3                          1000000 non-null  int64 \n",
      " 4   x4                          1000000 non-null  object\n",
      " 5   x5                          1000000 non-null  object\n",
      " 6   x6                          1000000 non-null  object\n",
      " 7   x7                          1000000 non-null  object\n",
      " 8   x8                          1000000 non-null  object\n",
      " 9   x9                          1000000 non-null  object\n",
      " 10  x10                         1000000 non-null  object\n",
      " 11  x11                         1000000 non-null  object\n",
      " 12  x12                         1000000 non-null  object\n",
      " 13  date1                       1000000 non-null  object\n",
      " 14  date2                       1000000 non-null  object\n",
      " 15  date3                       1000000 non-null  object\n",
      " 16  date4                       1000000 non-null  object\n",
      " 17  date5                       1000000 non-null  object\n",
      " 18  date6                       1000000 non-null  object\n",
      " 19  x13                         1000000 non-null  object\n",
      " 20  x14                         1000000 non-null  object\n",
      " 21  x15                         1000000 non-null  object\n",
      " 22  x16                         1000000 non-null  object\n",
      " 23  x17                         1000000 non-null  object\n",
      " 24  x18                         1000000 non-null  object\n",
      " 25  y_description               999847 non-null   object\n",
      " 26  y                           999211 non-null   object\n",
      "dtypes: int64(3), object(24)\n",
      "memory usage: 206.0+ MB\n"
     ]
    }
   ],
   "source": [
    "# Выводим незаполненные значения и типы данных\n",
    "df.info()"
   ]
  },
  {
   "cell_type": "code",
   "execution_count": 7,
   "id": "4dda034e-96fc-4295-95b3-10b8ec9a0999",
   "metadata": {},
   "outputs": [],
   "source": [
    "# Замена символов, которые указывают на незаполненные значения\n",
    "# Были представлены выше\n",
    "df.replace(dict.fromkeys(['\\\\N', '<НЕ ОПРЕДЕЛЕНО>'], None), inplace=True)"
   ]
  },
  {
   "cell_type": "code",
   "execution_count": 8,
   "id": "f1fec5f7-dbed-47d9-b7c1-2cbebc4b659b",
   "metadata": {},
   "outputs": [
    {
     "data": {
      "text/plain": [
       "x1                                 0\n",
       "Реестровый номер контракта         0\n",
       "x2                            360741\n",
       "x3                                 0\n",
       "x4                                 0\n",
       "x5                            295422\n",
       "x6                                 5\n",
       "x7                             50942\n",
       "x8                                55\n",
       "x9                            415178\n",
       "x10                               24\n",
       "x11                            95395\n",
       "x12                           336447\n",
       "date1                              0\n",
       "date2                             16\n",
       "date3                             55\n",
       "date4                            453\n",
       "date5                         291643\n",
       "date6                         829888\n",
       "x13                           828730\n",
       "x14                            95483\n",
       "x15                              816\n",
       "x16                           755534\n",
       "x17                           867941\n",
       "x18                           993399\n",
       "y_description                   1337\n",
       "y                               1973\n",
       "dtype: int64"
      ]
     },
     "execution_count": 8,
     "metadata": {},
     "output_type": "execute_result"
    }
   ],
   "source": [
    "# Смотрим пустые значения с заменой\n",
    "df.isna().sum()"
   ]
  },
  {
   "cell_type": "markdown",
   "id": "a78b7049-67be-4557-87f4-2d509f6466ea",
   "metadata": {},
   "source": [
    "Также внимательно изучим сам файл. Ниже представлен пример дат из файла"
   ]
  },
  {
   "attachments": {
    "5c8b3fe0-fb0a-4bcf-95eb-8b025033eb59.png": {
     "image/png": "[encoded data removed]"
    }
   },
   "cell_type": "markdown",
   "id": "8b248868-0f62-4a06-a9aa-297c04d855f3",
   "metadata": {},
   "source": [
    "![image.png](attachment:5c8b3fe0-fb0a-4bcf-95eb-8b025033eb59.png)"
   ]
  },
  {
   "cell_type": "markdown",
   "id": "0ae20268-d1df-41f0-8ce3-fb6300a7b266",
   "metadata": {},
   "source": [
    "Исходим из той логики, что столбец C15 ведет отсчет раньше, а столбец C17 позже остальных. \n",
    "\n",
    "Возьмем за рассчет эти две даты при получении выборки для работы"
   ]
  },
  {
   "cell_type": "markdown",
   "id": "f3dc5cfc-cb73-44ff-b195-bc5cf7e1d07e",
   "metadata": {},
   "source": [
    "**Вывод**:\n",
    "\n",
    "Большая часть столбцов не несет смысловой нагрузки, и не понадобится в дальнейшей работе"
   ]
  },
  {
   "cell_type": "markdown",
   "id": "4d4b0579-8bc5-46d2-90aa-8030062e0c07",
   "metadata": {},
   "source": [
    "## Отдельные столбцы"
   ]
  },
  {
   "cell_type": "markdown",
   "id": "3c25e3c3-5ac9-487e-908e-5eba5679a3a7",
   "metadata": {},
   "source": [
    "Сначала удалим столбцы с большим количеством пропусков"
   ]
  },
  {
   "cell_type": "code",
   "execution_count": 9,
   "id": "e7757e5b-c991-4d2f-8bd3-f56bee4e7aa7",
   "metadata": {},
   "outputs": [],
   "source": [
    "# Результирующие столбцы\n",
    "COLS = ['Реестровый номер контракта', 'x4', 'x7', 'x8', 'x11', 'x12', 'x15', 'date2', 'date4', 'y_description', 'y']"
   ]
  },
  {
   "cell_type": "code",
   "execution_count": 10,
   "id": "c0c8ec02-16f4-4adb-b473-4b4f35910a72",
   "metadata": {},
   "outputs": [],
   "source": [
    "# Оставляем только выбранные столбцы\n",
    "df = df[COLS]"
   ]
  },
  {
   "cell_type": "code",
   "execution_count": 11,
   "id": "6297c081-7625-4702-b42c-3dcff07e86eb",
   "metadata": {},
   "outputs": [
    {
     "name": "stdout",
     "output_type": "stream",
     "text": [
      "<class 'pandas.core.frame.DataFrame'>\n",
      "RangeIndex: 1000000 entries, 0 to 999999\n",
      "Data columns (total 11 columns):\n",
      " #   Column                      Non-Null Count    Dtype \n",
      "---  ------                      --------------    ----- \n",
      " 0   Реестровый номер контракта  1000000 non-null  int64 \n",
      " 1   x4                          1000000 non-null  object\n",
      " 2   x7                          949058 non-null   object\n",
      " 3   x8                          999945 non-null   object\n",
      " 4   x11                         904605 non-null   object\n",
      " 5   x12                         663553 non-null   object\n",
      " 6   x15                         999184 non-null   object\n",
      " 7   date2                       999984 non-null   object\n",
      " 8   date4                       999547 non-null   object\n",
      " 9   y_description               998663 non-null   object\n",
      " 10  y                           998027 non-null   object\n",
      "dtypes: int64(1), object(10)\n",
      "memory usage: 83.9+ MB\n"
     ]
    }
   ],
   "source": [
    "# Выводим информацию\n",
    "df.info()"
   ]
  },
  {
   "cell_type": "code",
   "execution_count": 12,
   "id": "6619393a-c18b-42e4-b8d5-b99e98ff7840",
   "metadata": {},
   "outputs": [
    {
     "data": {
      "text/plain": [
       "Реестровый номер контракта                              1010101008321000006\n",
       "x4                            ПУБЛИЧНОЕ АКЦИОНЕРНОЕ ОБЩЕСТВО \\РОСТЕЛЕКОМ\\\"\"\n",
       "x7                                          МО МВД РОССИИ \\КОШЕХАБЛЬСКИЙ\\\"\"\n",
       "x8                                               Республика Адыгея (Адыгея)\n",
       "x11                                                                    None\n",
       "x12                                                      федеральный бюджет\n",
       "x15                                                               173380.50\n",
       "date2                                                            2021-01-01\n",
       "date4                                                            2022-01-14\n",
       "y_description                   Услуги по операциям с недвижимым имуществом\n",
       "y                                                                      68.2\n",
       "Name: 1, dtype: object"
      ]
     },
     "execution_count": 12,
     "metadata": {},
     "output_type": "execute_result"
    }
   ],
   "source": [
    "# Выводим пример данных\n",
    "df.iloc[1].T"
   ]
  },
  {
   "cell_type": "markdown",
   "id": "44d592c1-f152-4a35-b8f1-3dd1ec509c87",
   "metadata": {},
   "source": [
    "Как можно заметить, в данных присутствуют пропуски в столбце **x11** - описание контракта.\n",
    "\n",
    "При полной обработке файла необходимо удалить данные с пустыми значениями"
   ]
  },
  {
   "cell_type": "code",
   "execution_count": 13,
   "id": "9733da4c-5f37-415d-b44a-1cbfa0270f09",
   "metadata": {},
   "outputs": [
    {
     "data": {
      "text/plain": [
       "Реестровый номер контракта                                  1010501691421000144\n",
       "x4                            ОБЩЕСТВО С ОГРАНИЧЕННОЙ ОТВЕТСТВЕННОСТЬЮ \\КРУС...\n",
       "x7                            ГУ-РО ФОНДА СОЦИАЛЬНОГО СТРАХОВАНИЯ РОССИЙСКОЙ...\n",
       "x8                                                   Республика Адыгея (Адыгея)\n",
       "x11                           На поставку специальных устройств для чтения «...\n",
       "x12                           бюджет Фонда социального страхования Российско...\n",
       "x15                                                                   281119.60\n",
       "date2                                                                2021-12-01\n",
       "date4                                                                2022-10-07\n",
       "y_description                 Оборудование компьютерное, электронное и оптич...\n",
       "y                                                                          26.4\n",
       "Name: 3, dtype: object"
      ]
     },
     "execution_count": 13,
     "metadata": {},
     "output_type": "execute_result"
    }
   ],
   "source": [
    "row = df.dropna().iloc[0].T\n",
    "row"
   ]
  },
  {
   "cell_type": "code",
   "execution_count": 14,
   "id": "05ae7486-3c1f-4b2a-8174-45086e2c3cfe",
   "metadata": {},
   "outputs": [
    {
     "data": {
      "text/plain": [
       "('На поставку специальных устройств для чтения «говорящих книг» - базовых тифлофлешплееров для обеспечения инвалидов в 2022 году',\n",
       " 'бюджет Фонда социального страхования Российской Федерации',\n",
       " 'Оборудование компьютерное, электронное и оптическое')"
      ]
     },
     "execution_count": 14,
     "metadata": {},
     "output_type": "execute_result"
    }
   ],
   "source": [
    "# Выведем отдельно текстовые данные\n",
    "row['x11'], row['x12'], row['y_description']"
   ]
  },
  {
   "cell_type": "markdown",
   "id": "a726bcb6-53ae-4133-acd0-c9f36b4e1f34",
   "metadata": {},
   "source": [
    "Строки представляют собой:\n",
    "\n",
    "* Контракт\n",
    "* Бюджет\n",
    "* Описание категории"
   ]
  },
  {
   "cell_type": "markdown",
   "id": "1b2544db-6715-4a8d-89f8-5f77b0b87bc0",
   "metadata": {},
   "source": [
    "Данные описания пригодятся в дальнейшем"
   ]
  },
  {
   "cell_type": "markdown",
   "id": "30437b3a-f53f-447d-aa76-6f44c063e4ce",
   "metadata": {},
   "source": [
    "# Получение выборки для анализа"
   ]
  },
  {
   "cell_type": "markdown",
   "id": "1418d952-2c6a-46ac-bb45-64c2427b64af",
   "metadata": {},
   "source": [
    "Полностью обработаем весь файл по \"кусочкам\", оставив только необходимые данные, очистив от строк с пустыми значениями"
   ]
  },
  {
   "cell_type": "markdown",
   "id": "5b95d0cd-2c3a-48e5-8241-cf4ca22e43f6",
   "metadata": {},
   "source": [
    "Учитывая размер выборки, потери не будут значимыми при обучении модели"
   ]
  },
  {
   "cell_type": "code",
   "execution_count": 15,
   "id": "e3d2cabc-e742-42db-ac26-8de9e1a093a3",
   "metadata": {},
   "outputs": [],
   "source": [
    "def process_large_file(input_file, output_file, columns, chunk_size=10**5):\n",
    "    \"\"\"\n",
    "    Обработка большого файла пакетами и сохранение выбранных колонок в новый файл.\n",
    "    \n",
    "    Parameters:\n",
    "    - input_file: Путь к исходному CSV файлу.\n",
    "    - output_file: Путь к выходному CSV файлу.\n",
    "    - columns: Список колонок для сохранения.\n",
    "    - chunk_size: Количество строк для чтения в каждом пакете.\n",
    "    \"\"\"\n",
    "    # Флаг для определения, нужно ли добавлять заголовки в выходной файл (только для первого пакета)\n",
    "    write_header = True\n",
    "\n",
    "    # Удаляем файл перед записью\n",
    "    os.remove(output_file)\n",
    "    \n",
    "    # Чтение файла пакетами с использованием контекстного менеджера\n",
    "    with pd.read_csv(input_file, encoding='utf-8', names=COLUMNS,\n",
    "                     chunksize=chunk_size, on_bad_lines=\"skip\", low_memory=False) as reader:\n",
    "        for chunk in tqdm(reader):\n",
    "            # Оставляем только нужные колонки\n",
    "            chunk_selected = chunk[columns]\n",
    "\n",
    "            # Очищаем данные\n",
    "            chunk_selected = chunk_selected.replace(dict.fromkeys(['\\\\N', '<НЕ ОПРЕДЕЛЕНО>'], None)).dropna()\n",
    "            \n",
    "            # Добавляем данные в выходной файл\n",
    "            chunk_selected.to_csv(output_file, mode='a', header=write_header, index=False)\n",
    "            \n",
    "            # После записи первого пакета меняем флаг добавления заголовка\n",
    "            write_header = False"
   ]
  },
  {
   "cell_type": "code",
   "execution_count": 16,
   "id": "9e17351c-a62b-40f0-9fe0-629d2c12db8d",
   "metadata": {},
   "outputs": [
    {
     "name": "stderr",
     "output_type": "stream",
     "text": [
      "0it [00:00, ?it/s]"
     ]
    },
    {
     "name": "stderr",
     "output_type": "stream",
     "text": [
      "286it [06:31,  1.37s/it]\n"
     ]
    }
   ],
   "source": [
    "# Входной и выходной файлы\n",
    "input_filepath = \"datasets/fz.csv\"\n",
    "output_filepath = \"datasets/new.csv\"\n",
    "\n",
    "# Обработка данных\n",
    "process_large_file(input_filepath, output_filepath, COLS)"
   ]
  },
  {
   "cell_type": "markdown",
   "id": "c2d64245-903f-49ea-9fc8-8e1f36579259",
   "metadata": {},
   "source": [
    "На моем устройстве файл был обработан за 6 минут 42 секунды"
   ]
  },
  {
   "cell_type": "markdown",
   "id": "2897720c-3d5e-4f12-89fb-cfc97b9f6078",
   "metadata": {},
   "source": [
    "# Вывод:"
   ]
  },
  {
   "cell_type": "markdown",
   "id": "f2ba9657-2fe1-4f9f-8577-6b936133c875",
   "metadata": {},
   "source": [
    "<H3> На данном шаге смогли очистить файл для облегчения дальнейшего анализа и составления моделей.</H3>"
   ]
  },
  {
   "cell_type": "code",
   "execution_count": null,
   "id": "e8970064-e428-4a7e-9cbc-26fb85b2dda8",
   "metadata": {},
   "outputs": [],
   "source": []
  }
 ],
 "metadata": {
  "kernelspec": {
   "display_name": "Python 3 (ipykernel)",
   "language": "python",
   "name": "python3"
  },
  "language_info": {
   "codemirror_mode": {
    "name": "ipython",
    "version": 3
   },
   "file_extension": ".py",
   "mimetype": "text/x-python",
   "name": "python",
   "nbconvert_exporter": "python",
   "pygments_lexer": "ipython3",
   "version": "3.10.13"
  }
 },
 "nbformat": 4,
 "nbformat_minor": 5
}
